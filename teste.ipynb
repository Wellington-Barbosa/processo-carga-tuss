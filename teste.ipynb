{
 "cells": [
  {
   "cell_type": "code",
   "execution_count": 7,
   "metadata": {
    "ExecuteTime": {
     "end_time": "2023-11-08T20:00:55.506930Z",
     "start_time": "2023-11-08T20:00:54.644791800Z"
    },
    "collapsed": true
   },
   "outputs": [],
   "source": [
    "import cx_Oracle\n",
    "import pandas as pd\n",
    "import numpy as np\n",
    "\n",
    "# Configuração da conexão Oracle\n",
    "oracle_username = 'tasy'\n",
    "oracle_password = 'aloisk'\n",
    "hostname = '192.168.14.5'\n",
    "port = '1521'\n",
    "service_name = 'dbteste'\n",
    "oracle_connection_string = f'oracle+cx_oracle://{oracle_username}:{oracle_password}@{hostname}:{port}/{service_name}'\n",
    "\n",
    "# Caminho para o arquivo CSV\n",
    "csv_file = 'cargatuss.csv'"
   ]
  },
  {
   "cell_type": "code",
   "execution_count": 4,
   "metadata": {},
   "outputs": [],
   "source": [
    "# Função para inserir os dados no banco de dados Oracle\n",
    "def inserir_dados_no_oracle(data):\n",
    "    try:\n",
    "        conn = cx_Oracle.connect(oracle_username, oracle_password, oracle_connection_string)\n",
    "        cursor = conn.cursor()\n",
    "\n",
    "        for i, row in data.iterrows():\n",
    "            if i % 100 == 0:\n",
    "                conn.commit()\n",
    "\n",
    "            NR_SEQUENCIA = row['NR_SEQUENCIA']\n",
    "            NR_SEQ_CARGA_TUSS = row['NR_SEQ_CARGA_TUSS']\n",
    "            DT_ATUALIZACAO = row['DT_ATUALIZACAO']\n",
    "            NM_USUARIO = row['NM_USUARIO']\n",
    "            CD_MATERIAL = row['CD_MATERIAL']\n",
    "            DS_MATERIAL = row['DS_MATERIAL']\n",
    "            CD_REF_FABRICANTE = row['CD_REF_FABRICANTE']\n",
    "            DS_FABRICANTE = row['DS_FABRICANTE']\n",
    "            DT_INICIO_VIGENCIA = row['DT_INICIO_VIGENCIA']\n",
    "            DT_FINAL_VIGENCIA = row['DT_FINAL_VIGENCIA']\n",
    "            DS_APRESENTACAO = row['DS_APRESENTACAO']\n",
    "            DS_LABORATORIO = row['DS_LABORATORIO']\n",
    "            IE_TIPO_ITEM = row['IE_TIPO_ITEM']\n",
    "            CD_MATERIAL_TUSS = row['CD_MATERIAL_TUSS']\n",
    "            NR_REGISTRO_ANVISA = row['NR_REGISTRO_ANVISA']\n",
    "            DS_GRAU_RISCO = row['DS_GRAU_RISCO']\n",
    "            DT_FIM_IMPLANTACAO = row['DT_FIM_IMPLANTACAO']\n",
    "            DS_GRUPO_FARMACOLOGICO = row['DS_GRUPO_FARMACOLOGICO']\n",
    "            DS_CLASSE_FARMACOLOGICA = row['DS_CLASSE_FARMACOLOGICA']\n",
    "            DT_INICIO_VIGENCIA_REF = row['DT_INICIO_VIGENCIA_REF']\n",
    "            DT_FIM_VIGENCIA_REF = row['DT_FIM_VIGENCIA_REF']\n",
    "            DT_ATUALIZACAO_NREC = row['DT_ATUALIZACAO_NREC']\n",
    "            NM_USUARIO_NREC = row['NM_USUARIO_NREC']\n",
    "            NM_TECNICO = row['NM_TECNICO']\n",
    "\n",
    "            sql = \"INSERT INTO TASY.TUSS_MATERIAL_ITEM (NR_SEQUENCIA, NR_SEQ_CARGA_TUSS, DT_ATUALIZACAO, NM_USUARIO, CD_MATERIAL, DS_MATERIAL, CD_REF_FABRICANTE, DS_FABRICANTE, DT_INICIO_VIGENCIA, DT_FINAL_VIGENCIA, DS_APRESENTACAO, DS_LABORATORIO, IE_TIPO_ITEM, CD_MATERIAL_TUSS, NR_REGISTRO_ANVISA, DS_GRAU_RISCO, DT_FIM_IMPLANTACAO, DS_GRUPO_FARMACOLOGICO, DS_CLASSE_FARMACOLOGICA, DT_INICIO_VIGENCIA_REF, DT_FIM_VIGENCIA_REF, DT_ATUALIZACAO_NREC, NM_USUARIO_NREC, NM_TECNICO) \" \\\n",
    "                  \"VALUES (:1, :2, :3, :4, :5, :6, :7, :8, :9, :10, :11, :12, :13, :14, :15, :16, :17, :18, :19, :20, :21, :22, :23, :24)\"\n",
    "            cursor.execute(sql, (NR_SEQUENCIA, NR_SEQ_CARGA_TUSS, DT_ATUALIZACAO, NM_USUARIO, CD_MATERIAL, DS_MATERIAL, CD_REF_FABRICANTE, DS_FABRICANTE, DT_INICIO_VIGENCIA, DT_FINAL_VIGENCIA, DS_APRESENTACAO, DS_LABORATORIO, IE_TIPO_ITEM, CD_MATERIAL_TUSS, NR_REGISTRO_ANVISA, DS_GRAU_RISCO, DT_FIM_IMPLANTACAO, DS_GRUPO_FARMACOLOGICO, DS_CLASSE_FARMACOLOGICA, DT_INICIO_VIGENCIA_REF, DT_FIM_VIGENCIA_REF, DT_ATUALIZACAO_NREC, NM_USUARIO_NREC, NM_TECNICO))\n",
    "\n",
    "\n",
    "        conn.commit()\n",
    "        conn.close()\n",
    "\n",
    "    except Exception as e:\n",
    "        return f\"Erro na linha {i}: {e}\"\n",
    "\n",
    "    return \"Inserção concluída com sucesso\"\n",
    "\n",
    "# Carregar o CSV em um DataFrame\n",
    "df = pd.read_csv(csv_file, encoding='ISO-8859-1', sep=';', low_memory=False)"
   ]
  },
  {
   "cell_type": "code",
   "execution_count": 9,
   "metadata": {},
   "outputs": [
    {
     "ename": "UnboundLocalError",
     "evalue": "cannot access local variable 'i' where it is not associated with a value",
     "output_type": "error",
     "traceback": [
      "\u001b[1;31m---------------------------------------------------------------------------\u001b[0m",
      "\u001b[1;31mDatabaseError\u001b[0m                             Traceback (most recent call last)",
      "\u001b[1;32mg:\\Wellington Programas\\Development\\processo-carga-tuss\\teste.ipynb Cell 3\u001b[0m line \u001b[0;36m4\n\u001b[0;32m      <a href='vscode-notebook-cell:/g%3A/Wellington%20Programas/Development/processo-carga-tuss/teste.ipynb#W2sZmlsZQ%3D%3D?line=2'>3</a>\u001b[0m \u001b[39mtry\u001b[39;00m:\n\u001b[1;32m----> <a href='vscode-notebook-cell:/g%3A/Wellington%20Programas/Development/processo-carga-tuss/teste.ipynb#W2sZmlsZQ%3D%3D?line=3'>4</a>\u001b[0m     conn \u001b[39m=\u001b[39m cx_Oracle\u001b[39m.\u001b[39;49mconnect(oracle_username, oracle_password, oracle_connection_string)\n\u001b[0;32m      <a href='vscode-notebook-cell:/g%3A/Wellington%20Programas/Development/processo-carga-tuss/teste.ipynb#W2sZmlsZQ%3D%3D?line=4'>5</a>\u001b[0m     cursor \u001b[39m=\u001b[39m conn\u001b[39m.\u001b[39mcursor()\n",
      "\u001b[1;31mDatabaseError\u001b[0m: ORA-12154: TNS:não foi possível resolver o identificador de conexão especificado",
      "\nDuring handling of the above exception, another exception occurred:\n",
      "\u001b[1;31mUnboundLocalError\u001b[0m                         Traceback (most recent call last)",
      "\u001b[1;32mg:\\Wellington Programas\\Development\\processo-carga-tuss\\teste.ipynb Cell 3\u001b[0m line \u001b[0;36m6\n\u001b[0;32m      <a href='vscode-notebook-cell:/g%3A/Wellington%20Programas/Development/processo-carga-tuss/teste.ipynb#W2sZmlsZQ%3D%3D?line=3'>4</a>\u001b[0m \u001b[39mfor\u001b[39;00m chunk \u001b[39min\u001b[39;00m np\u001b[39m.\u001b[39marray_split(df, \u001b[39mlen\u001b[39m(df) \u001b[39m/\u001b[39m\u001b[39m/\u001b[39m \u001b[39m100\u001b[39m):\n\u001b[0;32m      <a href='vscode-notebook-cell:/g%3A/Wellington%20Programas/Development/processo-carga-tuss/teste.ipynb#W2sZmlsZQ%3D%3D?line=4'>5</a>\u001b[0m     i \u001b[39m+\u001b[39m\u001b[39m=\u001b[39m \u001b[39m1\u001b[39m\n\u001b[1;32m----> <a href='vscode-notebook-cell:/g%3A/Wellington%20Programas/Development/processo-carga-tuss/teste.ipynb#W2sZmlsZQ%3D%3D?line=5'>6</a>\u001b[0m     result \u001b[39m=\u001b[39m inserir_dados_no_oracle(chunk)\n\u001b[0;32m      <a href='vscode-notebook-cell:/g%3A/Wellington%20Programas/Development/processo-carga-tuss/teste.ipynb#W2sZmlsZQ%3D%3D?line=6'>7</a>\u001b[0m     \u001b[39mif\u001b[39;00m \u001b[39m\"\u001b[39m\u001b[39mErro\u001b[39m\u001b[39m\"\u001b[39m \u001b[39min\u001b[39;00m result:\n\u001b[0;32m      <a href='vscode-notebook-cell:/g%3A/Wellington%20Programas/Development/processo-carga-tuss/teste.ipynb#W2sZmlsZQ%3D%3D?line=7'>8</a>\u001b[0m         erros\u001b[39m.\u001b[39mappend(result)\n",
      "\u001b[1;32mg:\\Wellington Programas\\Development\\processo-carga-tuss\\teste.ipynb Cell 3\u001b[0m line \u001b[0;36m4\n\u001b[0;32m     <a href='vscode-notebook-cell:/g%3A/Wellington%20Programas/Development/processo-carga-tuss/teste.ipynb#W2sZmlsZQ%3D%3D?line=41'>42</a>\u001b[0m     conn\u001b[39m.\u001b[39mclose()\n\u001b[0;32m     <a href='vscode-notebook-cell:/g%3A/Wellington%20Programas/Development/processo-carga-tuss/teste.ipynb#W2sZmlsZQ%3D%3D?line=43'>44</a>\u001b[0m \u001b[39mexcept\u001b[39;00m \u001b[39mException\u001b[39;00m \u001b[39mas\u001b[39;00m e:\n\u001b[1;32m---> <a href='vscode-notebook-cell:/g%3A/Wellington%20Programas/Development/processo-carga-tuss/teste.ipynb#W2sZmlsZQ%3D%3D?line=44'>45</a>\u001b[0m     \u001b[39mreturn\u001b[39;00m \u001b[39mf\u001b[39m\u001b[39m\"\u001b[39m\u001b[39mErro na linha \u001b[39m\u001b[39m{\u001b[39;00mi\u001b[39m}\u001b[39;00m\u001b[39m: \u001b[39m\u001b[39m{\u001b[39;00me\u001b[39m}\u001b[39;00m\u001b[39m\"\u001b[39m\n\u001b[0;32m     <a href='vscode-notebook-cell:/g%3A/Wellington%20Programas/Development/processo-carga-tuss/teste.ipynb#W2sZmlsZQ%3D%3D?line=46'>47</a>\u001b[0m \u001b[39mreturn\u001b[39;00m \u001b[39m\"\u001b[39m\u001b[39mInserção concluída com sucesso\u001b[39m\u001b[39m\"\u001b[39m\n",
      "\u001b[1;31mUnboundLocalError\u001b[0m: cannot access local variable 'i' where it is not associated with a value"
     ]
    }
   ],
   "source": [
    "# Realizar a inserção no banco de dados e tratar erros\n",
    "erros = []\n",
    "i = -1  # Inicializa i fora do loop\n",
    "for chunk in np.array_split(df, len(df) // 100):\n",
    "    i += 1\n",
    "    result = inserir_dados_no_oracle(chunk)\n",
    "    if \"Erro\" in result:\n",
    "        erros.append(result)\n",
    "\n",
    "# Salvar relatório de erros em um arquivo .txt\n",
    "with open('erros.txt', 'w') as file:\n",
    "    file.write(\"Registros com erro:\\n\")\n",
    "    for erro in erros:\n",
    "        file.write(erro + \"\\n\")\n",
    "\n",
    "print(f\"Registros inseridos com sucesso: {len(df) - len(erros)}\")\n",
    "print(f\"Registros com erro: {len(erros)}\")"
   ]
  }
 ],
 "metadata": {
  "kernelspec": {
   "display_name": "Python 3",
   "language": "python",
   "name": "python3"
  },
  "language_info": {
   "codemirror_mode": {
    "name": "ipython",
    "version": 3
   },
   "file_extension": ".py",
   "mimetype": "text/x-python",
   "name": "python",
   "nbconvert_exporter": "python",
   "pygments_lexer": "ipython3",
   "version": "3.11.4"
  }
 },
 "nbformat": 4,
 "nbformat_minor": 0
}
