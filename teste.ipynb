{
 "cells": [
  {
   "cell_type": "code",
   "execution_count": 1,
   "metadata": {
    "collapsed": true,
    "ExecuteTime": {
     "end_time": "2023-11-08T20:00:55.506930Z",
     "start_time": "2023-11-08T20:00:54.644791800Z"
    }
   },
   "outputs": [],
   "source": [
    "import cx_Oracle\n",
    "import pandas as pd\n",
    "\n",
    "# Configuração da conexão Oracle\n",
    "oracle_username = 'tasy'\n",
    "oracle_password = 'aloisk'\n",
    "hostname = '172.25.1.50'\n",
    "port = '1521'\n",
    "service_name = 'HOM'\n",
    "oracle_connection_string = f'oracle+cx_oracle://{oracle_username}:{oracle_password}@{hostname}:{port}/{service_name}'\n",
    "\n",
    "# Caminho para o arquivo CSV\n",
    "csv_file = 'cargatuss.csv'"
   ]
  }
 ],
 "metadata": {
  "kernelspec": {
   "display_name": "Python 3",
   "language": "python",
   "name": "python3"
  },
  "language_info": {
   "codemirror_mode": {
    "name": "ipython",
    "version": 2
   },
   "file_extension": ".py",
   "mimetype": "text/x-python",
   "name": "python",
   "nbconvert_exporter": "python",
   "pygments_lexer": "ipython2",
   "version": "2.7.6"
  }
 },
 "nbformat": 4,
 "nbformat_minor": 0
}
